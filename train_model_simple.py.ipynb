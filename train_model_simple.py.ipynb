{
 "cells": [
  {
   "cell_type": "code",
   "execution_count": 2,
   "id": "3a4fb09c",
   "metadata": {},
   "outputs": [],
   "source": [
    "import numpy as np\n",
    "\n",
    "\n",
    "X = np.random.randn(10, 2)\n",
    "y = 0.1 + 0.1 * X[:,0] - 0.2 * X[:, 1] \n",
    "\n"
   ]
  },
  {
   "cell_type": "code",
   "execution_count": 5,
   "id": "ce7f956b",
   "metadata": {},
   "outputs": [],
   "source": [
    "from sklearn.linear_model import Lasso"
   ]
  },
  {
   "cell_type": "code",
   "execution_count": 7,
   "id": "2bfbd022",
   "metadata": {},
   "outputs": [
    {
     "data": {
      "text/plain": [
       "Lasso()"
      ]
     },
     "execution_count": 7,
     "metadata": {},
     "output_type": "execute_result"
    }
   ],
   "source": [
    "model = Lasso()\n",
    "model.fit(X,y)"
   ]
  },
  {
   "cell_type": "code",
   "execution_count": 8,
   "id": "77709906",
   "metadata": {},
   "outputs": [],
   "source": [
    "#evaluation model etc. "
   ]
  },
  {
   "cell_type": "code",
   "execution_count": 11,
   "id": "89f4f86d",
   "metadata": {},
   "outputs": [
    {
     "data": {
      "text/plain": [
       "['regression_lineaire.joblib']"
      ]
     },
     "execution_count": 11,
     "metadata": {},
     "output_type": "execute_result"
    }
   ],
   "source": [
    "import joblib\n",
    "joblib.dump(model, \"regression_lineaire.joblib\")"
   ]
  },
  {
   "cell_type": "code",
   "execution_count": 12,
   "id": "2fb87630",
   "metadata": {},
   "outputs": [
    {
     "name": "stdout",
     "output_type": "stream",
     "text": [
      " Le volume dans le lecteur C s'appelle Acer\n",
      " Le num‚ro de s‚rie du volume est DEB0-36BD\n",
      "\n",
      " R‚pertoire de C:\\dev\\epita\\mlop2023\n",
      "\n",
      "29/09/2023  14:33    <DIR>          .\n",
      "29/09/2023  14:33    <DIR>          ..\n",
      "29/09/2023  14:30    <DIR>          .ipynb_checkpoints\n",
      "29/09/2023  14:33               626 regression_lineaire.joblib\n",
      "29/09/2023  14:32             1ÿ073 Untitled.ipynb\n",
      "               2 fichier(s)            1ÿ699 octets\n",
      "               3 R‚p(s)  112ÿ945ÿ963ÿ008 octets libres\n"
     ]
    }
   ],
   "source": [
    "!dir"
   ]
  },
  {
   "cell_type": "code",
   "execution_count": null,
   "id": "e597482d",
   "metadata": {},
   "outputs": [],
   "source": []
  }
 ],
 "metadata": {
  "kernelspec": {
   "display_name": "Python 3 (ipykernel)",
   "language": "python",
   "name": "python3"
  },
  "language_info": {
   "codemirror_mode": {
    "name": "ipython",
    "version": 3
   },
   "file_extension": ".py",
   "mimetype": "text/x-python",
   "name": "python",
   "nbconvert_exporter": "python",
   "pygments_lexer": "ipython3",
   "version": "3.9.9"
  }
 },
 "nbformat": 4,
 "nbformat_minor": 5
}
